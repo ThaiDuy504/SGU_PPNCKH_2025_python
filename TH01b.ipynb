{
 "cells": [
  {
   "cell_type": "markdown",
   "metadata": {},
   "source": [
    "# CƠ BẢN VỀ NGÔN NGỮ LẬP TRÌNH PYTHON\n"
   ]
  },
  {
   "cell_type": "markdown",
   "metadata": {
    "vscode": {
     "languageId": "plaintext"
    }
   },
   "source": [
    "# 1. Mục Tiêu\n"
   ]
  },
  {
   "cell_type": "markdown",
   "metadata": {
    "vscode": {
     "languageId": "plaintext"
    }
   },
   "source": [
    "-   Khai báo thư viện, toán tử cơ bản\n",
    "-   Kiểu dữ liệu: số nguyên, số thực, chuỗi, luận lý, None, Tuple, List, Set, Dictionary\n",
    "-   Nhập / xuất dữ liệu\n",
    "-   Cấu trúc điều khiển: điều kiện (if), lặp (for, while), list comprehension\n",
    "-   Xử lý ngoại lệ, hàm\n",
    "-   Xử lý tham số dòng lệnh\n"
   ]
  },
  {
   "cell_type": "markdown",
   "metadata": {
    "vscode": {
     "languageId": "plaintext"
    }
   },
   "source": [
    "## 2. Bài tập thực hành\n"
   ]
  },
  {
   "cell_type": "markdown",
   "metadata": {
    "vscode": {
     "languageId": "plaintext"
    }
   },
   "source": [
    "### 2.1. Nhập/xuất, biểu thức tính toán\n"
   ]
  },
  {
   "cell_type": "markdown",
   "metadata": {},
   "source": [
    "### Bài 1. Tính giá trị hàm số\n",
    "\n",
    "Hãy viết chương trình nhập vào số thực x và tính giá trị biểu thức:\n",
    "\n",
    "$$f(x) = x + \\frac{x^5}{5!} + \\frac{\\sqrt{|x|}}{x^{3/2}}$$\n"
   ]
  },
  {
   "cell_type": "code",
   "execution_count": 2,
   "metadata": {},
   "outputs": [
    {
     "name": "stdout",
     "output_type": "stream",
     "text": [
      "gia tri cua ham so f(x) = 3.27.\n"
     ]
    }
   ],
   "source": [
    "import math\n",
    "\n",
    "x = float(input(\"Moi ban nhap vao gia tri cua bien so x: \"))\n",
    "\n",
    "f_x = x + x**5/math.factorial(5) + math.sqrt(math.fabs(x))/math.pow(x,3/2)\n",
    "\n",
    "print(f\"gia tri cua ham so f(x) = {f_x:.2f}.\")\n",
    "\n"
   ]
  },
  {
   "cell_type": "markdown",
   "metadata": {},
   "source": [
    "### Bài 2. Đổi sang giờ phút giây\n",
    "\n",
    "Một thiết bị hoạt động được t giây. Hãy viết chương trình chuyển số giây đó dưới dạng số giờ, số phút và số giây.\n"
   ]
  },
  {
   "cell_type": "code",
   "execution_count": 4,
   "metadata": {},
   "outputs": [
    {
     "name": "stdout",
     "output_type": "stream",
     "text": [
      "4810 giay co dang 01:20:10 \n"
     ]
    }
   ],
   "source": [
    "t = int(input(\"Nhap vao tong so giay: \"))\n",
    "hh = int(t/3600)\n",
    "mm = int((t - hh*3600)/60)\n",
    "ss = int(t - hh*3600 - mm*60)\n",
    "\n",
    "print(f\"{t} giay co dang {hh:02}:{mm:02}:{ss:02} \")"
   ]
  },
  {
   "cell_type": "markdown",
   "metadata": {},
   "source": [
    "### 2.2 Cấu trúc lựa chọn\n"
   ]
  },
  {
   "cell_type": "markdown",
   "metadata": {},
   "source": [
    "### Bài 3. Giải phuơng trình bậc 1\n",
    "\n",
    "Nhập 2 số thực a, b. Tìm nghiệm của phương trình bậc 1 ax + b = 0.\n"
   ]
  },
  {
   "cell_type": "code",
   "execution_count": 7,
   "metadata": {},
   "outputs": [
    {
     "name": "stdout",
     "output_type": "stream",
     "text": [
      "Phuong trinh 1x + 5 = 0 co nghiem x = -5.00\n"
     ]
    }
   ],
   "source": [
    "a = int(input(\"Moi ban nhap vao he so a: \"))\n",
    "b = int(input(\"Moi ban nhap vao he so b: \"))\n",
    "\n",
    "if b == 0:\n",
    "    print(\"Phuong trinh co vo so nghiem\")\n",
    "elif a == 0:\n",
    "    print(\"Phuong trinh vo nghiem\")\n",
    "else:\n",
    "    x = -b/a\n",
    "    print(f\"Phuong trinh {a}x + {b} = 0 co nghiem x = {x:.2f}\")"
   ]
  },
  {
   "cell_type": "markdown",
   "metadata": {},
   "source": [
    "### Bài 4. Chuyển ký số sang số\n",
    "\n",
    "Nhập một chuỗi s là chuỗi biểu diễn ký tự số trong tiếng Anh gồm {zero, one, two, three, four, five, six,\n",
    "seven, eight, nine}.\n",
    "\n",
    "Hãy kiểm tra chuỗi nhập có hợp lệ không? Nếu hợp lệ thì in ra ký số của chuỗi đó và\n",
    "chuỗi ký số bên tiếng việt tương ứng.\n"
   ]
  },
  {
   "cell_type": "code",
   "execution_count": 9,
   "metadata": {},
   "outputs": [
    {
     "name": "stdout",
     "output_type": "stream",
     "text": [
      "chuoi vua nhap hop le\n",
      "\"One\" bieu dien so cho 1 va ung voi tieng viet \"mot\".\n"
     ]
    }
   ],
   "source": [
    "s = input(\"Moi ban nhap chuoi ky so s: \")\n",
    "\n",
    "en = [\"zero\", \"one\", \"two\", \"three\", \"four\", \"five\", \"six\", \"seven\", \"eight\", \"nine\"]\n",
    "vn = [\"khong \", \"mot\", \"hai\", \"ba\", \"bon\", \"nam\", \"sau\", \"bay\", \"tam\", \"chin\"]\n",
    "if s.lower() not in en:\n",
    "    print(\"chuoi vua nhap khong hop le\")\n",
    "else:\n",
    "    print(\"chuoi vua nhap hop le\")\n",
    "    idx = en.index(s.lower())\n",
    "    print(f'\"{s}\" bieu dien so cho {idx} va ung voi tieng viet \"{vn[idx]}\".')\n"
   ]
  },
  {
   "cell_type": "markdown",
   "metadata": {},
   "source": [
    "### 2.3 Cấu trúc lặp\n"
   ]
  },
  {
   "cell_type": "markdown",
   "metadata": {},
   "source": [
    "### Bài 5. Tính tổng các số chẵn\n",
    "\n",
    "Nhập một số nguyên n. Hãy tính tổng các số chẵn từ 1 đến n.\n"
   ]
  },
  {
   "cell_type": "code",
   "execution_count": 11,
   "metadata": {},
   "outputs": [
    {
     "name": "stdout",
     "output_type": "stream",
     "text": [
      "Tong cac so chan tu 1 den 100 la 2550\n"
     ]
    }
   ],
   "source": [
    "n = int(input(\"Moi ban nhap so nguyen n: 10\"))\n",
    "n -= n % 2\n",
    "tong = (n * (n + 2) // 4)\n",
    "print(f\"Tong cac so chan tu 1 den {n} la {tong:.0f}\")"
   ]
  },
  {
   "cell_type": "markdown",
   "metadata": {},
   "source": [
    "### Bài 6. Kiểm tra số nguyên tố\n",
    "\n",
    "Nhập vào một số nguyên dương n. Hãy kiểm tra xem n có phải là nguyên tố không?\n"
   ]
  },
  {
   "cell_type": "code",
   "execution_count": null,
   "metadata": {},
   "outputs": [
    {
     "name": "stdout",
     "output_type": "stream",
     "text": [
      "1 la so nguyen to\n"
     ]
    }
   ],
   "source": [
    "import math\n",
    "\n",
    "n = int(input(\"Moi ban nhap so nguyen n: \"))\n",
    "if n < 2:\n",
    "    print(f\"{n} khong la so nguyen to\")\n",
    "\n",
    "for i in range(2,int(math.sqrt(n))+1):\n",
    "    if n % i == 0:\n",
    "        print(f\"{n} khong la so nguyen to\")\n",
    "        break\n",
    "else:\n",
    "    print(f\"{n} la so nguyen to\")"
   ]
  },
  {
   "cell_type": "markdown",
   "metadata": {},
   "source": [
    "### 2.4 Xử lý ngoại lệ và hàm số\n"
   ]
  },
  {
   "cell_type": "markdown",
   "metadata": {},
   "source": [
    "### Bài 7. Giải phương trình bậc 2\n",
    "\n",
    "Nhập 3 số thực a, b, c (có kiểm tra dữ liệu nhập số thực). Hãy xây dựng hàm giải phương trình bậc 2\n",
    "ax^2+bx+c=0 và in kết quả giải ra màn hình.\n"
   ]
  },
  {
   "cell_type": "code",
   "execution_count": 23,
   "metadata": {},
   "outputs": [
    {
     "name": "stdout",
     "output_type": "stream",
     "text": [
      "a = 0\n",
      "So nghiem: -1, nghiem = ()\n",
      "So nghiem: 0, nghiem = ()\n",
      "So nghiem: 1, nghiem = (-1.2,)\n",
      "a <> 0\n",
      "So nghiem: 0, nghiem = ()\n",
      "So nghiem: 1, nghiem = (-1.0,)\n",
      "So nghiem: 2, nghiem = (-2.0, -3.0)\n"
     ]
    }
   ],
   "source": [
    "# ax^2 + bx + c = 0\n",
    "def quadratic(a, b, c):\n",
    "    if a == 0:\n",
    "        if b == 0: \n",
    "            if c == 0:\n",
    "                return -1,();\n",
    "            else :\n",
    "                return 0,();\n",
    "        else:\n",
    "            return 1,(-c/b,)\n",
    "    else:\n",
    "        d = b**2 - 4*a*c\n",
    "        if d < 0:\n",
    "            return 0,()\n",
    "        elif d == 0:\n",
    "            return 1,(-b/(2*a),)\n",
    "        else:\n",
    "            return 2,((-b + math.sqrt(d))/(2*a), (-b - math.sqrt(d))/(2*a))\n",
    "def NhapDuLieu():\n",
    "    while True:\n",
    "        try:\n",
    "            line = input(\"Nhap he so a, b, c: \")\n",
    "            a_snum = line.split(\" \")\n",
    "            a,b,c = int(a_snum[0]), int(a_snum[1]), int(a_snum[2])\n",
    "            return a,b,c\n",
    "        except:\n",
    "            print(\"Nhap sai, vui long nhap lai\")\n",
    "            continue\n",
    "\n",
    "print(\"a = 0\")\n",
    "flag, x = quadratic(0, 0, 0)\n",
    "print(f'So nghiem: {flag}, nghiem = {x}')\n",
    "flag, x = quadratic(0, 0, 5)\n",
    "print(f'So nghiem: {flag}, nghiem = {x}')\n",
    "flag, x = quadratic(0, 5, 6)\n",
    "print(f'So nghiem: {flag}, nghiem = {x}')\n",
    "print(\"a <> 0\")\n",
    "flag, x = quadratic(5, 1, 2)\n",
    "print(f'So nghiem: {flag}, nghiem = {x}')\n",
    "flag, x = quadratic(1, 2, 1)\n",
    "print(f'So nghiem: {flag}, nghiem = {x}')\n",
    "flag, x = quadratic(1, 5, 6)\n",
    "print(f'So nghiem: {flag}, nghiem = {x}')\n"
   ]
  },
  {
   "cell_type": "markdown",
   "metadata": {},
   "source": [
    "### 2.5 Dữ liệu nâng cao (List, Tuple, Set, Dictionary)\n"
   ]
  },
  {
   "cell_type": "markdown",
   "metadata": {},
   "source": [
    "### Bài 8. Các thao tác xử lý mảng số\n",
    "\n",
    "Viết chương trình xây dựng các hàm sau cho List và kiểm tra tính đúng đắn của các hàm số:\n",
    "\n",
    "-   Nhập một mảng số từ bàn phím cách nhau bởi khoảng trắng. Xuất mảng ra màn hình.\n",
    "-   Sinh một mảng số ngẫu nhiên có n phần tử trong khoảng a, b.\n",
    "-   Tính tổng của mảng số, đếm các phần tử chẵn, lẻ trong mảng.\n",
    "-   Cho một mảng số, hãy trả về dãy chẳn, dãy lẻ.\n"
   ]
  },
  {
   "cell_type": "code",
   "execution_count": 25,
   "metadata": {},
   "outputs": [
    {
     "name": "stdout",
     "output_type": "stream",
     "text": [
      "Mang co 16 phan tu: 1 4 1 2 3 4 1 2 3 3 1 2 3 4 10 2 \n",
      "[9, 4, -2, -8, 1, -6, 7, 7, 3, 3, -5, 1, 6, 9, -6, 6, 4, 10, -3, 9, -1, -4, 7, 7, -8, 0, 9, -7, -7, 10]\n",
      "[7, 5, 1, 2, 0, 4, 0, 5, 6, 7, 1, 10, 0, 2, 0, 6, 7, 0, 5, 1, 6, 9, 9, 6, 8, 4, 5, 5, 6, 8]\n",
      "[-1, -1, 1, 1, 1, 2, 2, 1, -1, 2, 1, 2, 1, -1, 0, 2, 2, -1, 1, -1, -1, 2, 2, -1, 2, 0, 1, 0, 0, -1]\n"
     ]
    }
   ],
   "source": [
    "import random\n",
    "\n",
    "def NhapMang():\n",
    "    line = input(\"Moi ban nhap mang (cach nhau khoang trang): \")\n",
    "    a = list(line.split(\" \"))\n",
    "    return a\n",
    "\n",
    "def XuatMang(a):\n",
    "    \"\"\"\n",
    "        Input:\n",
    "        a = [1, 4, 1, 2, 3, 4, 1, 2, 3, 3, 1, 2, 3, 4, 10, 2]\n",
    "        Output:\n",
    "        In ra man hinh:\n",
    "        Mang co 16 phan tu: 1 4 1 2 3 4 1 2 3 3 1 2 3 4 10 2\n",
    "    \"\"\"\n",
    "\n",
    "    print(f'Mang co {len(a)} phan tu: ', end = '')\n",
    "    for i in range(len(a)):\n",
    "        print(a[i], end = ' ')\n",
    "    print()\n",
    "\n",
    "# Xuat Mang\n",
    "a = [1, 4, 1, 2, 3, 4, 1, 2, 3, 3, 1, 2, 3, 4, 10, 2]\n",
    "XuatMang(a)\n",
    "\n",
    "\n",
    "def SinhNgauNhien(n,vmin=-1,vmax=10):\n",
    "    return [random.randint(vmin, vmax) for i in range(n)]\n",
    "\n",
    "b = SinhNgauNhien(30, -10, 10)\n",
    "print(b)\n",
    "b = SinhNgauNhien(30, vmin = 0)\n",
    "print(b)\n",
    "b = SinhNgauNhien(30, vmax = 2)\n",
    "print(b)"
   ]
  },
  {
   "cell_type": "code",
   "execution_count": 26,
   "metadata": {},
   "outputs": [
    {
     "name": "stdout",
     "output_type": "stream",
     "text": [
      "(-31, 17, 13)\n",
      "(141, 17, 13)\n"
     ]
    }
   ],
   "source": [
    "def DemTongChanLe(a):\n",
    "    \"\"\"\n",
    "        Input:\n",
    "        a[] = [1, 4, 2, 0, -1, -7, 3, -6, 4, 9, -5, 7, 7, -7, -10, 1, -10, 9, -4, -6, 10, -2, -10, -8, -3, 2, -7, -10, 6, 0]\n",
    "        Output: tong, sochan, sole\n",
    "    \"\"\"\n",
    "    tong = 0\n",
    "    sochan = 0\n",
    "    sole = 0\n",
    "    for i in range(len(a)):\n",
    "        if a[i] % 2:\n",
    "            sole += 1\n",
    "        else:\n",
    "            sochan += 1\n",
    "        tong += a[i]\n",
    "    return tong, sochan, sole\n",
    "\n",
    "a = [1, 4, 2, 0, -1, -7, 3, -6, 4, 9, -5, 7, 7, -7, -10, 1, -10, 9, -4, -6, 10, -2, -10, -8, - 3, 2, -7, -10, 6, 0]\n",
    "print(DemTongChanLe(a))\n",
    "a = [9, 6, 5, 0, 8, 8, 1, 10, 0, 0, 1, 1, 2, 7, 1, 10, 9, 1, 10, 8, 2, 8, 4, 5, 4, 5, 5, 3, 6, 2]\n",
    "print(DemTongChanLe(a))"
   ]
  },
  {
   "cell_type": "code",
   "execution_count": 28,
   "metadata": {},
   "outputs": [],
   "source": [
    "def DayChanLe(a): # Gia tri tra ve\n",
    "    \"\"\"\n",
    "        Input:\n",
    "        a = [1, 4, 2, 0, -1, -7, 3, -6, 4, 9, -5, 7, 7, -7, -10, 1, -10, 9, -4, -6, 10, -2, -10, -8, -3, 2, -7, -10, 6, 0] \n",
    "        Output: (achan, ale)\n",
    "        achan = [4, 2, 0, -6, 4, -10, -10, -4, -6, 10, -2, -10, -8, 2, -10, 6, 0]\n",
    "        ale = [1, -1, -7, 3, 9, -5, 7, 7, -7, 1, 9, -3, -7]\n",
    "    \"\"\"\n",
    "    achan = [x for x in a if x % 2 == 0]\n",
    "    ale = [x for x in a if x % 2 != 0]\n",
    "    return achan, ale"
   ]
  },
  {
   "cell_type": "code",
   "execution_count": 29,
   "metadata": {},
   "outputs": [
    {
     "name": "stdout",
     "output_type": "stream",
     "text": [
      "DayChanLe:\n",
      "Chan = [4, 2, 0, -6, 4, -10, -10, -4, -6, 10, -2, -10, -8, 2, -10, 6, 0]\n",
      "Le = [1, -1, -7, 3, 9, -5, 7, 7, -7, 1, 9, -3, -7]\n",
      "\n"
     ]
    }
   ],
   "source": [
    "a = [1, 4, 2, 0, -1, -7, 3, -6, 4, 9, -5, 7, 7, -7, -10, 1, -10, 9, -4, -6, 10, -2, -10, -8, - 3, 2, -7, -10, 6, 0]\n",
    "achan, ale = DayChanLe(a)\n",
    "print(f'DayChanLe:\\nChan = {achan}\\nLe = {ale}\\n')"
   ]
  },
  {
   "cell_type": "markdown",
   "metadata": {},
   "source": [
    "### Bài 9. Các thao tác trên tập hợp, từ điển\n",
    "\n",
    "Viết chương trình nhập vào một dãy ký tự a cách nhau bởi khoảng trắng. Hãy thực hiện:\n",
    "\n",
    "-   In các ký tự trong a không trùng nhau và được sắp theo thứ tự tăng dần\n",
    "-   Đếm số lần xuất hiện các ký tự trong dãy a\n"
   ]
  },
  {
   "cell_type": "code",
   "execution_count": 31,
   "metadata": {},
   "outputs": [
    {
     "name": "stdout",
     "output_type": "stream",
     "text": [
      "['A', 'C', 'F', 'G', 'H', 'T']\n"
     ]
    }
   ],
   "source": [
    "def XuLyKhongTrung(a):\n",
    "    \"\"\"\n",
    "        Input:\n",
    "        a = ['A', 'G', 'C', 'A', 'C', 'F', 'F', 'T', 'H']\n",
    "\n",
    "        Cơ bản về ngôn ngữ lập trình Python - 8 -\n",
    "\n",
    "        © DNTAI 2024\n",
    "        Output:\n",
    "        s = ['A', 'C', 'F', 'G', 'H', 'T']\n",
    "    \"\"\"\n",
    "    s = set(a)\n",
    "    return sorted(s)\n",
    "# XuLyKhongTrung\n",
    "a = ['A', 'G', 'C', 'A', 'C', 'F', 'F', 'T', 'H']\n",
    "b = XuLyKhongTrung(a)\n",
    "print(b)  # ['A', 'C', 'F', 'G', 'H', 'T']"
   ]
  },
  {
   "cell_type": "code",
   "execution_count": null,
   "metadata": {},
   "outputs": [
    {
     "name": "stdout",
     "output_type": "stream",
     "text": [
      "Counter({'A': 2, 'C': 2, 'F': 2, 'G': 1, 'T': 1, 'H': 1})\n"
     ]
    }
   ],
   "source": [
    "from collections import Counter\n",
    "def DemSoLanXuatHien(a):\n",
    "    \"\"\"\n",
    "    Input:\n",
    "    a = ['A', 'G', 'C', 'A', 'C', 'F', 'F', 'T', 'H']\n",
    "    Output:\n",
    "    dem = {'A': 2, 'G': 1, 'C': 2, 'F': 2, 'T': 1, 'H': 1}\n",
    "    \"\"\"\n",
    "    # return Counter(a)\n",
    "    dem = {} # (k, v): k (ky tu) v (so lan xuat hien)\n",
    "    for ai in a:\n",
    "        dem[ai] = dem.get(ai, 0) + 1\n",
    "    return dem\n",
    "# DemSoLanXuatHien\n",
    "a = ['A', 'G', 'C', 'A', 'C', 'F', 'F', 'T', 'H']\n",
    "b = DemSoLanXuatHien(a)\n",
    "print(b)\n",
    "# {'A': 2, 'G': 1, 'C': 2, 'F': 2, 'T': 1, 'H': 1}"
   ]
  },
  {
   "cell_type": "markdown",
   "metadata": {},
   "source": [
    "## Kết Thúc.\n"
   ]
  }
 ],
 "metadata": {
  "kernelspec": {
   "display_name": "Python 3",
   "language": "python",
   "name": "python3"
  },
  "language_info": {
   "codemirror_mode": {
    "name": "ipython",
    "version": 3
   },
   "file_extension": ".py",
   "mimetype": "text/x-python",
   "name": "python",
   "nbconvert_exporter": "python",
   "pygments_lexer": "ipython3",
   "version": "3.12.7"
  }
 },
 "nbformat": 4,
 "nbformat_minor": 2
}
