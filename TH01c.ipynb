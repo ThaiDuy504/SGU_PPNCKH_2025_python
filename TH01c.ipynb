{
 "cells": [
  {
   "cell_type": "markdown",
   "id": "313e4434",
   "metadata": {},
   "source": [
    "# Kỹ thuật lập trình Python\n"
   ]
  },
  {
   "cell_type": "markdown",
   "id": "e783fe2f",
   "metadata": {},
   "source": [
    "## 1. Mục Tiêu\n",
    "\n",
    "-   Xử lý dãy số, ma trận trên Numpy\n",
    "-   Hiển thị đồ thị dùng Matplotlib\n"
   ]
  },
  {
   "cell_type": "markdown",
   "id": "ab06c01e",
   "metadata": {},
   "source": [
    "## 2. Bài tập thực hành\n"
   ]
  },
  {
   "cell_type": "code",
   "execution_count": 58,
   "id": "8acc703d",
   "metadata": {},
   "outputs": [],
   "source": [
    "import numpy as np\n",
    "import matplotlib.pyplot as plt"
   ]
  },
  {
   "cell_type": "markdown",
   "id": "347ed33c",
   "metadata": {},
   "source": [
    "### Bài 1. Tính toán trên dãy số\n"
   ]
  },
  {
   "cell_type": "markdown",
   "id": "1ccf73ab",
   "metadata": {},
   "source": [
    "#### 1. Tạo một dãy số a có N phần tử (N = 10)\n"
   ]
  },
  {
   "cell_type": "code",
   "execution_count": 59,
   "id": "718cb206",
   "metadata": {},
   "outputs": [
    {
     "name": "stdout",
     "output_type": "stream",
     "text": [
      "[0 2 1 7 4 1 5 0 3 9]\n"
     ]
    }
   ],
   "source": [
    "a = np.random.randint(0, 10, 10)\n",
    "print(a)"
   ]
  },
  {
   "cell_type": "markdown",
   "id": "2e2f9e45",
   "metadata": {},
   "source": [
    "#### 2. Các thao tác trên dãy số a\n",
    "\n",
    "a. Bình phương các phần tử trong dãy số\n",
    "\n",
    "b. Tìm số lượng các phần tử của dãy số\n",
    "\n",
    "c. In ra giá trị lớn nhất, giá trị nhỏ nhất và giá trị trung bình\n",
    "\n",
    "d. Tính phương sai của dãy số δ² = ∑(aᵢ-μ)²/(N-1) với μ = ∑aᵢ/N và độ lệch chuẩn var = √δ²\n"
   ]
  },
  {
   "cell_type": "code",
   "execution_count": 60,
   "id": "f7b18b09",
   "metadata": {},
   "outputs": [
    {
     "name": "stdout",
     "output_type": "stream",
     "text": [
      "a. binh phuong a: [ 0  4  1 49 16  1 25  0  9 81]\n",
      "b. Do dai a: 10\n",
      "c. Gia tri lon nhat: 9, Gia tri nho nhat: 0, Gia tri trung binh: 3.2\n",
      "d. Phuong sai: 3.506048467648941e-31, Do lech chuan: 5.921189464667501e-16\n"
     ]
    }
   ],
   "source": [
    "a2 = a ** 2\n",
    "n = len(a)\n",
    "print(f\"a. binh phuong a: {a2}\")\n",
    "print(f\"b. Do dai a: {n}\")\n",
    "\n",
    "v_max = max(a)\n",
    "v_min = min(a)\n",
    "v_avg = np.average(a)\n",
    "\n",
    "print(f\"c. Gia tri lon nhat: {v_max}, Gia tri nho nhat: {v_min}, Gia tri trung binh: {v_avg}\")\n",
    "\n",
    "v_mean = np.sum(a) / n\n",
    "v_sigma2 = np.sum(a - v_mean) ** 2 / (n - 1)\n",
    "v_var = np.sqrt(v_sigma2)\n",
    "print(f\"d. Phuong sai: {v_sigma2}, Do lech chuan: {v_var}\")\n"
   ]
  },
  {
   "cell_type": "markdown",
   "id": "21c615b2",
   "metadata": {},
   "source": [
    "#### 3. Toán tử trên hai dãy số\n",
    "\n",
    "a. Tạo dãy số x có 10 phần tử từ 1 đến 10 (dùng hàm np.arange)\n",
    "\n",
    "b. Liệt kê và đếm số lượng phần tử chẵn và lẻ có trong dãy a và x\n",
    "\n",
    "c. Tính khoảng cách giữa các phần tử ở vị trí lẻ của mảng a và x với s = √∑(aᵢ - xᵢ)² với i lẻ\n",
    "\n",
    "d. Tìm khoảng cách nhỏ nhất giữa tập a và x. Ví dụ: min({1, 3, 5}, {2, 10, 8}} = 1\n"
   ]
  },
  {
   "cell_type": "code",
   "execution_count": 61,
   "id": "8656e9d9",
   "metadata": {},
   "outputs": [
    {
     "name": "stdout",
     "output_type": "stream",
     "text": [
      "a. day so x: [ 0  1  2  3  4  5  6  7  8  9 10]\n",
      "b. Cac phan tu chan trong day a, x: \n",
      "+ Day a: [0 2 1 7 4 1 5 0 3 9]\n",
      "    - Loc chan [ True  True False False  True False False  True False False]\n",
      "    - Day chua cac phan tu chan: [0 2 4 0], so luong: 4 phan tu\n",
      "+ Day x: [ 0  1  2  3  4  5  6  7  8  9 10]\n",
      "    - Loc chan [ True False  True False  True False  True False  True False  True]\n",
      "    - Day chua cac phan tu chan: [ 0  2  4  6  8 10], so luong: 6 phan tu\n",
      "c. Tinh hieu cac phan tu o vi tri le trong day a, x:\n",
      "vi tri le trong mang a va x: [1, 3, 5, 7, 9]\n",
      "Day so a: [0 2 1 7 4 1 5 0 3 9] va cac phan tu o vi tri le: [2 7 1 0 9]\n",
      "Day so x: [ 0  1  2  3  4  5  6  7  8  9 10] va cac phan tu o vi tri le: [1 3 5 7 9]\n",
      "Hieu cac phan tu o vi tri le: [ 1  4 -4 -7  0]\n",
      "Khoang cach cua cac phan tu o vi tri le: 9.06\n",
      "day a: [0 2 1 7 4 1 5 0 3 9]\n",
      "day x: [ 0  1  2  3  4  5  6  7  8  9 10]\n",
      "Khoang cach nho nhat giua cac phan tu trong a va x: 0.00\n"
     ]
    }
   ],
   "source": [
    "x = np.arange(0, 11)\n",
    "print(f\"a. day so x: {x}\")\n",
    "\n",
    "a_la_chan = a % 2 == 0\n",
    "x_la_chan = x % 2 == 0\n",
    "\n",
    "a_chan = a[a_la_chan]\n",
    "\n",
    "x_chan = x[x_la_chan]\n",
    "\n",
    "n_a_chan = len(a_chan)\n",
    "n_x_chan = len(x_chan)\n",
    "\n",
    "print(\"b. Cac phan tu chan trong day a, x: \")\n",
    "print(f\"+ Day a: {a}\")\n",
    "print(f\"    - Loc chan {a_la_chan}\")\n",
    "print(f\"    - Day chua cac phan tu chan: {a_chan}, so luong: {n_a_chan} phan tu\")\n",
    "print(f\"+ Day x: {x}\")\n",
    "print(f\"    - Loc chan {x_la_chan}\")\n",
    "print(f\"    - Day chua cac phan tu chan: {x_chan}, so luong: {n_x_chan} phan tu\")\n",
    "\n",
    "v_le = list(range(1, len(a), 2))\n",
    "a_le = a[v_le]\n",
    "x_le = x[v_le]\n",
    "hieu_le = a_le - x_le\n",
    "kc_le = np.linalg.norm(a_le - x_le)\n",
    "print(\"c. Tinh hieu cac phan tu o vi tri le trong day a, x:\")\n",
    "print(f\"vi tri le trong mang a va x: {v_le}\")\n",
    "print(f\"Day so a: {a} va cac phan tu o vi tri le: {a_le}\")\n",
    "print(f\"Day so x: {x} va cac phan tu o vi tri le: {x_le}\")\n",
    "print(f\"Hieu cac phan tu o vi tri le: {hieu_le}\") \n",
    "print(f\"Khoang cach cua cac phan tu o vi tri le: {kc_le:.2f}\")\n",
    "\n",
    "v_min = np.min(np.abs(a[:,np.newaxis] - x))\n",
    "print(f\"day a: {a}\")\n",
    "print(f\"day x: {x}\")\n",
    "print(f\"Khoang cach nho nhat giua cac phan tu trong a va x: {v_min:.2f}\")\n",
    "\n",
    "\n"
   ]
  },
  {
   "cell_type": "markdown",
   "id": "db58100d",
   "metadata": {},
   "source": [
    "#### 4. Sinh ngẫu nhiên dãy số\n",
    "\n",
    "a. Sinh ngẫu nhiên dãy số có 100 phần tử theo phân bố đều với giá trị trong đoạn [1, 10] và vẽ đồ thị tần số xuất hiện\n",
    "\n",
    "b. Sinh ngẫu nhiên N điểm (x, y) với y là hàm phân phối chuẩn N(μ = 1, σ² = 1.0): y = f(x|μ, σ) = (1/(σ√2π))exp(-(x-μ)²/(2σ²)) nơi mà x ∈ [μ-5σ, μ+5σ]\n",
    "\n",
    "c. Sinh ngẫu nhiên dãy số có 100000 phần tử theo phân bố chuẩn N(μ = 1, σ² = 1.0) và vẽ đồ thị tần số xuất hiện\n"
   ]
  },
  {
   "cell_type": "code",
   "execution_count": 62,
   "id": "a43580ee",
   "metadata": {},
   "outputs": [],
   "source": [
    "x = np.random.randint(0,10,100)\n",
    "unique, cnt = np.unique(x, return_counts=True)"
   ]
  },
  {
   "cell_type": "code",
   "execution_count": 63,
   "id": "35a722cd",
   "metadata": {},
   "outputs": [
    {
     "name": "stdout",
     "output_type": "stream",
     "text": [
      "a. Sinh ngẫu nhiên theo phân bố đều\n",
      "+ Gia tri: [0 1 2 3 4 5 6 7 8 9]\n",
      "+ So lan xuat hien: [10  6  6 14 11 17  9 13  7  7]\n",
      "+ Do thi ham so xuat hien\n"
     ]
    },
    {
     "data": {
      "image/png": "[encoded data removed]",
      "text/plain": [
       "<Figure size 600x600 with 1 Axes>"
      ]
     },
     "metadata": {},
     "output_type": "display_data"
    }
   ],
   "source": [
    "print(\"a. Sinh ngẫu nhiên theo phân bố đều\")\n",
    "print(f\"+ Gia tri: {unique}\")\n",
    "print(f\"+ So lan xuat hien: {cnt}\")\n",
    "print(\"+ Do thi ham so xuat hien\")\n",
    "plt.figure(figsize=(6,6))\n",
    "plt.bar(unique, cnt, color='blue', edgecolor='black')\n",
    "plt.show()"
   ]
  },
  {
   "cell_type": "code",
   "execution_count": 64,
   "id": "25a9d68d",
   "metadata": {},
   "outputs": [
    {
     "name": "stdout",
     "output_type": "stream",
     "text": [
      "b. Sinh cặp (x, y) với y làm hàm phân phối chuẩn\n",
      "+ x: -4.0 <= min [-3.98] <= max [ 5.65] <= 6.0\n",
      "+ Ve ham so y(x)\n"
     ]
    },
    {
     "data": {
      "image/png": "[encoded data removed]",
      "text/plain": [
       "<Figure size 600x600 with 1 Axes>"
      ]
     },
     "metadata": {},
     "output_type": "display_data"
    }
   ],
   "source": [
    "m = 1\n",
    "s2 = 1\n",
    "s = np.sqrt(s2)\n",
    "x_min = m - 5*s\n",
    "x_max = m + 5*s\n",
    "x = np.random.rand(100) * (x_max - x_min) + x_min\n",
    "y = 1/(s * np.sqrt(2 * np.pi)) * np.exp(-0.5 * ((x - m) / s) ** 2)\n",
    "print(\"b. Sinh cặp (x, y) với y làm hàm phân phối chuẩn\")\n",
    "print(f\"+ x: {x_min} <= min [{np.min(x): .2f}] <= max [{np.max(x): .2f}] <= {x_max}\")\n",
    "print(f\"+ Ve ham so y(x)\")\n",
    "plt.figure(figsize=(6,6)) # kich thuoc ban ve\n",
    "plt.scatter(x, y) # ve cac diem (xi, yi)\n",
    "plt.savefig(\"4b.png\") # luu do thi\n",
    "plt.show()\n",
    "\n"
   ]
  },
  {
   "cell_type": "code",
   "execution_count": 65,
   "id": "11db308a",
   "metadata": {},
   "outputs": [
    {
     "name": "stdout",
     "output_type": "stream",
     "text": [
      "c. Sinh day so theo phan phoi chuan\n",
      "+ x: len = 100000, min [-3.7019655662410162], max [5.231200040164496]\n",
      "+ Mat so xac suat cua day so x\n"
     ]
    },
    {
     "data": {
      "image/png": "[encoded data removed]",
      "text/plain": [
       "<Figure size 600x600 with 1 Axes>"
      ]
     },
     "metadata": {},
     "output_type": "display_data"
    }
   ],
   "source": [
    "x = m + np.random.randn(100_000)*s\n",
    "x = np.random.normal(m,s, 100_000)\n",
    "cnt, val = np.histogram(x, bins = 300, density = True)\n",
    "val = (val[1:] + val[:-1]) / 2\n",
    "print( \"c. Sinh day so theo phan phoi chuan\")\n",
    "print(f\"+ x: len = {len(x)}, min [{np.min(x)}], max [{np.max(x)}]\")\n",
    "print(f\"+ Mat so xac suat cua day so x\")\n",
    "plt.figure(figsize=(6,6)) # kich thuoc ban ve\n",
    "plt.xlim(np.min(val), np.max(val))\n",
    "plt.scatter(val, cnt)\n",
    "plt.show()"
   ]
  },
  {
   "cell_type": "markdown",
   "id": "3cbf8d59",
   "metadata": {},
   "source": [
    "### Bài 2. Tính toán trên ma trận\n"
   ]
  },
  {
   "cell_type": "markdown",
   "id": "7d4594c9",
   "metadata": {},
   "source": [
    "#### 1. Tạo ma trận a có M = 6 dòng, N = 4 cột\n"
   ]
  },
  {
   "cell_type": "code",
   "execution_count": 66,
   "id": "86bc222b",
   "metadata": {},
   "outputs": [
    {
     "name": "stdout",
     "output_type": "stream",
     "text": [
      "Ma trận a: \n",
      " [[983 297 462 937]\n",
      " [191 323 426 794]\n",
      " [606 316 916 354]\n",
      " [720 200 100 263]\n",
      " [ 42 296 459 955]\n",
      " [555 778 724 787]]\n"
     ]
    }
   ],
   "source": [
    "a = np.random.randint(0,1000,(6,4))\n",
    "print(\"Ma trận a: \\n\", a)\n"
   ]
  },
  {
   "cell_type": "markdown",
   "id": "62e44729",
   "metadata": {},
   "source": [
    "#### 2. Các thao tác trên ma trận a\n",
    "\n",
    "a. In ra ma trận chuyển vị\n",
    "\n",
    "b. In ra phần tử ở vị trí dòng 2 cột 3\n",
    "\n",
    "c. Trích xuất dòng đầu, dòng cuối, dòng 2\n",
    "\n",
    "d. Trích xuất cột kế cuối, cột đầu\n",
    "\n",
    "e. Đảo các giá trị trên từng cột\n",
    "\n",
    "f. Tính tổng các dòng, trung bình các cột\n"
   ]
  },
  {
   "cell_type": "code",
   "execution_count": 67,
   "id": "bf4df9b7",
   "metadata": {},
   "outputs": [
    {
     "name": "stdout",
     "output_type": "stream",
     "text": [
      "a. In ra ma trận chuyển vị: \n",
      "[[983 191 606 720  42 555]\n",
      " [297 323 316 200 296 778]\n",
      " [462 426 916 100 459 724]\n",
      " [937 794 354 263 955 787]]\n",
      "\n",
      "b. In ra phần tử ở vị trí dòng 2 cột 3: 354\n",
      "\n",
      "c. Trích xuất các dòng: \n",
      " + Dòng đầu : [983 297 462 937]\n",
      " + Dòng cuối: [555 778 724 787]\n",
      " + Dòng hai : [606 316 916 354]\n",
      "\n",
      "d. Trích xuất các cột: \n",
      " + Cột kế cuối: [462 426 916 100 459 724]\n",
      " + Cột đầu: [983 191 606 720  42 555]\n",
      "\n",
      "e. Đảo các giá trị trên từng cột: \n",
      " [[555 778 724 787]\n",
      " [ 42 296 459 955]\n",
      " [720 200 100 263]\n",
      " [606 316 916 354]\n",
      " [191 323 426 794]\n",
      " [983 297 462 937]]\n",
      "\n",
      "f. Phép tính theo trục:\n",
      " + Tổng dòng: [2679 1734 2192 1283 1752 2844]\n",
      " + Trung bình cột: [516.16666667 368.33333333 514.5        681.66666667]\n"
     ]
    }
   ],
   "source": [
    "a_t = a.T\n",
    "v_23 = a[2,3]\n",
    "d_0 = a[0]\n",
    "d_last = a[-1]\n",
    "d_2 = a[2]\n",
    "c_l1 = a[:,-2]\n",
    "c_0 = a[:,0]\n",
    "dao_cot = a[::-1,:]\n",
    "\n",
    "tong_dong = np.sum(a, axis=1)\n",
    "tb_cot = np.average(a, axis=0)\n",
    "print(f\"a. In ra ma trận chuyển vị: \\n{a_t}\")\n",
    "print(f\"\\nb. In ra phần tử ở vị trí dòng 2 cột 3: {v_23}\")\n",
    "print(f\"\\nc. Trích xuất các dòng: \")\n",
    "print(f\" + Dòng đầu : {d_0}\")\n",
    "print(f\" + Dòng cuối: {d_last}\")\n",
    "print(f\" + Dòng hai : {d_2}\")\n",
    "print(f\"\\nd. Trích xuất các cột: \")\n",
    "print(f\" + Cột kế cuối: {c_l1}\")\n",
    "print(f\" + Cột đầu: {c_0}\")\n",
    "print(f\"\\ne. Đảo các giá trị trên từng cột: \\n {dao_cot}\")\n",
    "print(f\"\\nf. Phép tính theo trục:\")\n",
    "print(f\" + Tổng dòng: {tong_dong}\")\n",
    "print(f\" + Trung bình cột: {tb_cot}\")"
   ]
  },
  {
   "cell_type": "markdown",
   "id": "fb18ccdf",
   "metadata": {},
   "source": [
    "#### 3. Các toán tử trên hai ma trận\n",
    "\n",
    "a. Tạo hai ma trận A và B có 4 dòng x 3 cột và X có 3 dòng x 4 cột\n",
    "\n",
    "b. Tính tổng, hiệu, tích của từng phần tử trên hai ma trận A và B\n",
    "\n",
    "c. Tính phép nhân ma trận Y = A × X\n"
   ]
  },
  {
   "cell_type": "code",
   "execution_count": 68,
   "id": "b2925db1",
   "metadata": {},
   "outputs": [
    {
     "name": "stdout",
     "output_type": "stream",
     "text": [
      "a. Tạo hai ma trận A và B có 4 dòng x 3 cột và X có 3 dòng x 4 cột\n",
      "+ Ma tran A: \n",
      "[[85 44 72]\n",
      " [61 22 41]\n",
      " [99 83 42]\n",
      " [39 66 47]]\n",
      "+ Ma tran B: \n",
      "[[20 37 94]\n",
      " [95 36  6]\n",
      " [74  6 87]\n",
      " [64  3 25]]\n",
      "+ Ma tran X: \n",
      "[[80 48 41]\n",
      " [34  6  2]\n",
      " [ 8 24  2]]\n",
      "\n",
      "b. Tính tổng, hiệu, tích của từng phần tử trên hai ma trận A và B\n",
      "A + B = \n",
      "[[105  81 166]\n",
      " [156  58  47]\n",
      " [173  89 129]\n",
      " [103  69  72]]\n",
      "A - B = \n",
      "[[ 65   7 -22]\n",
      " [-34 -14  35]\n",
      " [ 25  77 -45]\n",
      " [-25  63  22]]\n",
      "A . B = \n",
      "[[1700 1628 6768]\n",
      " [5795  792  246]\n",
      " [7326  498 3654]\n",
      " [2496  198 1175]]\n",
      "\n",
      "c. Tính phép nhân ma trận Y = A x X\n",
      "Y = A x X --> shape A ((4, 3)) x shape X ((3, 3)) = shape Y ((4, 3)) \n",
      "[[ 8872  6072  3717]\n",
      " [ 5956  4044  2627]\n",
      " [11078  6258  4309]\n",
      " [ 5740  3396  1825]]\n"
     ]
    }
   ],
   "source": [
    "A = np.random.randint(0, 100, (4, 3))\n",
    "B = np.random.randint(0, 100, (4, 3))\n",
    "X = np.random.randint(0, 100, (3, 3))\n",
    "AB_add = A + B\n",
    "AB_sub = A - B\n",
    "AB_mul = A * B\n",
    "ab_dot = np.dot(A, B.T)\n",
    "Y = np.matmul(A, X)\n",
    "\n",
    "print(\"a. Tạo hai ma trận A và B có 4 dòng x 3 cột và X có 3 dòng x 4 cột\")\n",
    "print(f\"+ Ma tran A: \\n{A}\")\n",
    "print(f\"+ Ma tran B: \\n{B}\")\n",
    "print(f\"+ Ma tran X: \\n{X}\")\n",
    "print(\"\\nb. Tính tổng, hiệu, tích của từng phần tử trên hai ma trận A và B\")\n",
    "print(f\"A + B = \\n{AB_add}\")\n",
    "print(f\"A - B = \\n{AB_sub}\")\n",
    "print(f\"A . B = \\n{AB_mul}\")\n",
    "print(\"\\nc. Tính phép nhân ma trận Y = A x X\")\n",
    "print(f\"Y = A x X --> shape A ({A.shape}) x shape X ({X.shape}) = shape Y ({Y.shape}) \\n{Y}\")"
   ]
  },
  {
   "cell_type": "markdown",
   "id": "2ad233cf",
   "metadata": {},
   "source": [
    "#### 4. Giải hệ phương trình tuyến tính\n",
    "\n",
    "{\n",
    "4x₁ + 3x₂ - 5x₃ = 2\n",
    "\n",
    "-2x₁ - 4x₂ + 5x₃ = 5\n",
    "\n",
    "8x₁ + 8x₂ = -3\n"
   ]
  },
  {
   "cell_type": "code",
   "execution_count": 69,
   "id": "cbbdcd57",
   "metadata": {},
   "outputs": [
    {
     "name": "stdout",
     "output_type": "stream",
     "text": [
      "+ Ma tran A: \n",
      "[[ 4  3 -5]\n",
      " [-2 -4  5]\n",
      " [ 8  8  0]]\n",
      "+ Vector y: [ 2  5 -3]\n",
      "+ Nghiem x: [ 2.20833333 -2.58333333 -0.18333333]\n",
      "+ Kiem tra: yy = Ax = [ 2.  5. -3.] ==> ||yy - y||_2 = 0.00\n"
     ]
    }
   ],
   "source": [
    "A = np.array([[4,3,-5],[-2,-4,5],[8,8,0]])\n",
    "y = np.array([2,5,-3])\n",
    "x = np.linalg.solve(A, y)\n",
    "yy = A.dot(x)\n",
    "diff = np.linalg.norm(yy - y)\n",
    "print(f\"+ Ma tran A: \\n{A}\")\n",
    "print(f\"+ Vector y: {y}\")\n",
    "print(f\"+ Nghiem x: {x}\")\n",
    "print(f\"+ Kiem tra: yy = Ax = {yy} ==> ||yy - y||_2 = {diff:.2f}\")"
   ]
  },
  {
   "cell_type": "markdown",
   "id": "198a7154",
   "metadata": {},
   "source": [
    "## 3. Bài tập áp dụng\n"
   ]
  },
  {
   "cell_type": "markdown",
   "id": "a05b9c90",
   "metadata": {},
   "source": [
    "### Bài 3. Tính gần đúng số pi dùng phương pháp Monte Carlo\n",
    "\n",
    "Vẽ một đường tròn C có bán kính r nội tiếp một hình vuông C, và đặt ngẫu nhiên N chấm lên hình vuông. Tỉ lệ các chấm nằm trong hình tròn trên tổng số chấm xấp xỉ bằng diện tích của hình tròn chia cho hình vuông như sau:\n",
    "\n",
    "Nᶜ/N ≈ Sᶜ/S\n",
    "\n",
    "nơi mà Nᶜ là các chấm trong hình tròn, N là tổng số chấm, Sᶜ và S lần lượt là diện tích của hình tròn và hình vuông.\n",
    "\n",
    "Sᶜ = π _ r²\n",
    "S = (2 _ r)² = 4r²\n",
    "\n",
    "Do đó, công thức trên trở thành:\n",
    "Nᶜ/N ≈ (π \\* r²)/(4r²) = π/4\n",
    "\n",
    "Suy ra, ta có giá trị số π được tính như sau:\n",
    "π ≈ 4Nᶜ/N\n",
    "\n",
    "Các bạn hãy lập trình tính sấp xỉ số π dùng phương pháp Monte Carlo. Cho biết các sai số với N = 100, N = 10000, và N = 1000000. Vẽ đồ thị minh họa cho chương trình.\n",
    "\n",
    "Hướng dẫn: Viết chương trình phát sinh N điểm (xᵢ, yᵢ) với xᵢ, yᵢ ∈ [-1, -1]. (xᵢ, yᵢ) thuộc hình tròn tâm (0,0) bán kính 1 nội tiếp hình vuông có tâm tại (0,0) độ dài cạnh 2 khi và chỉ khi xᵢ² + yᵢ² ≤ 1.\n"
   ]
  },
  {
   "cell_type": "code",
   "execution_count": 57,
   "id": "81e8ca06",
   "metadata": {},
   "outputs": [
    {
     "data": {
      "image/png": "[encoded data removed]",
      "text/plain": [
       "<Figure size 600x600 with 1 Axes>"
      ]
     },
     "metadata": {},
     "output_type": "display_data"
    }
   ],
   "source": [
    "import matplotlib.pyplot as plt # khai báo thư viện vẽ pyplot\n",
    "import math\n",
    "circle = plt.Circle((0, 0), 1, color='g') # tạo đối tượng vòng tròn\n",
    "fig, ax = plt.subplots(figsize=(6, 6)) # lấy figure và vùng vẽ\n",
    "plt.plot(0, 0, 'o', color=(0.9, 0.9, 1.0), alpha=0.8) # vẽ điểm tại tâm (0,0)\n",
    "ax.add_patch(circle) # thêm vòng tròn vào vùng vẽ\n",
    "x = 0.75; y = math.sqrt(1 - (x ** 2)) # (x = 0.75, y = căn bậc 2 của 1 - x^2)\n",
    "plt.arrow(0, 0, x, y)\n",
    "plt.xlim(-1, 1) # giới hạn trục x\n",
    "plt.ylim(-1, 1) # giới hạn trục y\n",
    "plt.show()"
   ]
  },
  {
   "cell_type": "code",
   "execution_count": 56,
   "id": "32ef374f",
   "metadata": {},
   "outputs": [
    {
     "name": "stdout",
     "output_type": "stream",
     "text": [
      "epsilon(n=100):  0.018407346410207026\n",
      "epsilon(n=100):  0.05840734641020706\n",
      "epsilon(n=10000):  -0.01279265358979309\n",
      "epsilon(n=10000):  -0.014792653589793314\n",
      "epsilon(n=1000000):  0.0005553464102070471\n",
      "epsilon(n=1000000):  -0.0008126535897932108\n"
     ]
    }
   ],
   "source": [
    "def cal_pi_montecarlo(n):\n",
    "    pi = 0\n",
    "    a = np.random.rand(n, 2) * 2 - 1  \n",
    "    in_circle = np.sum(a**2, axis=1) <= 1 \n",
    "    n_s = np.sum(in_circle)\n",
    "    pi = 4 * n_s / n\n",
    "    return pi, n_s, n - n_s\n",
    "\n",
    "\n",
    "import math\n",
    "# Run the simulation multiple times for each N to see variations\n",
    "print(\"epsilon(n=100): \", cal_pi_montecarlo(n=100)[0] - math.pi)\n",
    "print(\"epsilon(n=100): \", cal_pi_montecarlo(n=100)[0] - math.pi)\n",
    "print(\"epsilon(n=10000): \", cal_pi_montecarlo(n=10000)[0] - math.pi)\n",
    "print(\"epsilon(n=10000): \", cal_pi_montecarlo(n=10000)[0] - math.pi)\n",
    "print(\"epsilon(n=1000000): \", cal_pi_montecarlo(n=1000000)[0] - math.pi)\n",
    "print(\"epsilon(n=1000000): \", cal_pi_montecarlo(n=1000000)[0] - math.pi)"
   ]
  },
  {
   "cell_type": "markdown",
   "id": "26db141f",
   "metadata": {},
   "source": [
    "## Kết Thúc.\n"
   ]
  }
 ],
 "metadata": {
  "kernelspec": {
   "display_name": "Python 3",
   "language": "python",
   "name": "python3"
  },
  "language_info": {
   "codemirror_mode": {
    "name": "ipython",
    "version": 3
   },
   "file_extension": ".py",
   "mimetype": "text/x-python",
   "name": "python",
   "nbconvert_exporter": "python",
   "pygments_lexer": "ipython3",
   "version": "3.12.7"
  }
 },
 "nbformat": 4,
 "nbformat_minor": 5
}
